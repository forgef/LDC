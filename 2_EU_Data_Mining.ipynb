{
  "nbformat": 4,
  "nbformat_minor": 0,
  "metadata": {
    "colab": {
      "name": "2_EU_Data_Mining.ipynb",
      "provenance": [],
      "collapsed_sections": [],
      "toc_visible": true,
      "authorship_tag": "ABX9TyNZMI1djaE+RGMAHH+GRwvi",
      "include_colab_link": true
    },
    "kernelspec": {
      "name": "python3",
      "display_name": "Python 3"
    }
  },
  "cells": [
    {
      "cell_type": "markdown",
      "metadata": {
        "id": "view-in-github",
        "colab_type": "text"
      },
      "source": [
        "<a href=\"https://colab.research.google.com/github/forgef/LDC/blob/master/2_EU_Data_Mining.ipynb\" target=\"_parent\"><img src=\"https://colab.research.google.com/assets/colab-badge.svg\" alt=\"Open In Colab\"/></a>"
      ]
    },
    {
      "cell_type": "markdown",
      "metadata": {
        "id": "KUsMRr3nqm22",
        "colab_type": "text"
      },
      "source": [
        "**Reconstruction of the EU tariffs under preferential treatment**\n"
      ]
    },
    {
      "cell_type": "markdown",
      "metadata": {
        "id": "7jME_2jc_Xpb",
        "colab_type": "text"
      },
      "source": [
        "\n",
        "Data for tariffs imposed on exporters by the European Union are not available on the [WTO website](https://timeseries.wto.org/). In this notebook, I use official European laws to reconstruct the time series data from EU official documents available in PDFs.\n"
      ]
    },
    {
      "cell_type": "markdown",
      "metadata": {
        "id": "qFrTtLDux3o3",
        "colab_type": "text"
      },
      "source": [
        "# SET-UP"
      ]
    },
    {
      "cell_type": "code",
      "metadata": {
        "id": "dziUjuU8pKii",
        "colab_type": "code",
        "colab": {
          "base_uri": "https://localhost:8080/",
          "height": 122
        },
        "outputId": "7a4553f1-f4d4-4aef-9935-1df7775d6ae3"
      },
      "source": [
        "from google.colab import drive\n",
        "drive.mount('/content/gdrive')"
      ],
      "execution_count": 1,
      "outputs": [
        {
          "output_type": "stream",
          "text": [
            "Go to this URL in a browser: https://accounts.google.com/o/oauth2/auth?client_id=947318989803-6bn6qk8qdgf4n4g3pfee6491hc0brc4i.apps.googleusercontent.com&redirect_uri=urn%3aietf%3awg%3aoauth%3a2.0%3aoob&response_type=code&scope=email%20https%3a%2f%2fwww.googleapis.com%2fauth%2fdocs.test%20https%3a%2f%2fwww.googleapis.com%2fauth%2fdrive%20https%3a%2f%2fwww.googleapis.com%2fauth%2fdrive.photos.readonly%20https%3a%2f%2fwww.googleapis.com%2fauth%2fpeopleapi.readonly\n",
            "\n",
            "Enter your authorization code:\n",
            "··········\n",
            "Mounted at /content/gdrive\n"
          ],
          "name": "stdout"
        }
      ]
    },
    {
      "cell_type": "code",
      "metadata": {
        "id": "YWRqKx8tpqtQ",
        "colab_type": "code",
        "colab": {
          "base_uri": "https://localhost:8080/",
          "height": 751
        },
        "outputId": "9dd807d1-5f72-4c66-8b31-e0b01b034d48"
      },
      "source": [
        "!pip install tabula-py\n",
        "!pip install PyPDF2\n",
        "!pip install tika\n",
        "!pip install Unidecode"
      ],
      "execution_count": 2,
      "outputs": [
        {
          "output_type": "stream",
          "text": [
            "Collecting tabula-py\n",
            "\u001b[?25l  Downloading https://files.pythonhosted.org/packages/8d/ed/20655a47a603430272c995d908d0dd96f93c2aa8973c8a55a66c8f3b8dfe/tabula_py-2.1.1-py3-none-any.whl (10.4MB)\n",
            "\u001b[K     |████████████████████████████████| 10.4MB 3.0MB/s \n",
            "\u001b[?25hCollecting distro\n",
            "  Downloading https://files.pythonhosted.org/packages/25/b7/b3c4270a11414cb22c6352ebc7a83aaa3712043be29daa05018fd5a5c956/distro-1.5.0-py2.py3-none-any.whl\n",
            "Requirement already satisfied: numpy in /usr/local/lib/python3.6/dist-packages (from tabula-py) (1.18.5)\n",
            "Requirement already satisfied: pandas>=0.25.3 in /usr/local/lib/python3.6/dist-packages (from tabula-py) (1.0.5)\n",
            "Requirement already satisfied: python-dateutil>=2.6.1 in /usr/local/lib/python3.6/dist-packages (from pandas>=0.25.3->tabula-py) (2.8.1)\n",
            "Requirement already satisfied: pytz>=2017.2 in /usr/local/lib/python3.6/dist-packages (from pandas>=0.25.3->tabula-py) (2018.9)\n",
            "Requirement already satisfied: six>=1.5 in /usr/local/lib/python3.6/dist-packages (from python-dateutil>=2.6.1->pandas>=0.25.3->tabula-py) (1.12.0)\n",
            "Installing collected packages: distro, tabula-py\n",
            "Successfully installed distro-1.5.0 tabula-py-2.1.1\n",
            "Collecting PyPDF2\n",
            "\u001b[?25l  Downloading https://files.pythonhosted.org/packages/b4/01/68fcc0d43daf4c6bdbc6b33cc3f77bda531c86b174cac56ef0ffdb96faab/PyPDF2-1.26.0.tar.gz (77kB)\n",
            "\u001b[K     |████████████████████████████████| 81kB 2.4MB/s \n",
            "\u001b[?25hBuilding wheels for collected packages: PyPDF2\n",
            "  Building wheel for PyPDF2 (setup.py) ... \u001b[?25l\u001b[?25hdone\n",
            "  Created wheel for PyPDF2: filename=PyPDF2-1.26.0-cp36-none-any.whl size=61086 sha256=631e192ac517705afdb50ad67aeade00ce84475bb1df1a0b470a7261a716eefc\n",
            "  Stored in directory: /root/.cache/pip/wheels/53/84/19/35bc977c8bf5f0c23a8a011aa958acd4da4bbd7a229315c1b7\n",
            "Successfully built PyPDF2\n",
            "Installing collected packages: PyPDF2\n",
            "Successfully installed PyPDF2-1.26.0\n",
            "Collecting tika\n",
            "  Downloading https://files.pythonhosted.org/packages/96/07/244fbb9c74c0de8a3745cc9f3f496077a29f6418c7cbd90d68fd799574cb/tika-1.24.tar.gz\n",
            "Requirement already satisfied: setuptools in /usr/local/lib/python3.6/dist-packages (from tika) (47.3.1)\n",
            "Requirement already satisfied: requests in /usr/local/lib/python3.6/dist-packages (from tika) (2.23.0)\n",
            "Requirement already satisfied: chardet<4,>=3.0.2 in /usr/local/lib/python3.6/dist-packages (from requests->tika) (3.0.4)\n",
            "Requirement already satisfied: idna<3,>=2.5 in /usr/local/lib/python3.6/dist-packages (from requests->tika) (2.9)\n",
            "Requirement already satisfied: certifi>=2017.4.17 in /usr/local/lib/python3.6/dist-packages (from requests->tika) (2020.6.20)\n",
            "Requirement already satisfied: urllib3!=1.25.0,!=1.25.1,<1.26,>=1.21.1 in /usr/local/lib/python3.6/dist-packages (from requests->tika) (1.24.3)\n",
            "Building wheels for collected packages: tika\n",
            "  Building wheel for tika (setup.py) ... \u001b[?25l\u001b[?25hdone\n",
            "  Created wheel for tika: filename=tika-1.24-cp36-none-any.whl size=32885 sha256=d201a497c8b9338d25d1f0345f809c7d198c3e1ea55f95a6589b82437e88db72\n",
            "  Stored in directory: /root/.cache/pip/wheels/73/9c/f5/0b1b738442fc2a2862bef95b908b374f8e80215550fb2a8975\n",
            "Successfully built tika\n",
            "Installing collected packages: tika\n",
            "Successfully installed tika-1.24\n",
            "Collecting Unidecode\n",
            "\u001b[?25l  Downloading https://files.pythonhosted.org/packages/d0/42/d9edfed04228bacea2d824904cae367ee9efd05e6cce7ceaaedd0b0ad964/Unidecode-1.1.1-py2.py3-none-any.whl (238kB)\n",
            "\u001b[K     |████████████████████████████████| 245kB 3.4MB/s \n",
            "\u001b[?25hInstalling collected packages: Unidecode\n",
            "Successfully installed Unidecode-1.1.1\n"
          ],
          "name": "stdout"
        }
      ]
    },
    {
      "cell_type": "code",
      "metadata": {
        "id": "Zh9eeH6rpg3G",
        "colab_type": "code",
        "colab": {}
      },
      "source": [
        "# Libraries\n",
        "import numpy as np\n",
        "import pandas as pd\n",
        "import tabula as tb\n",
        "from PyPDF2 import PdfFileWriter, PdfFileReader\n",
        "from tika import parser \n",
        "from bs4 import BeautifulSoup\n",
        "import requests\n",
        "import os\n",
        "import re\n",
        "import unidecode\n",
        "\n",
        "# Data path\n",
        "dataFolder='/content/gdrive/My Drive/LDC/Data/'"
      ],
      "execution_count": 3,
      "outputs": []
    },
    {
      "cell_type": "markdown",
      "metadata": {
        "id": "6vtM-jI00-0u",
        "colab_type": "text"
      },
      "source": [
        "# Most Favored Nation from WTO"
      ]
    },
    {
      "cell_type": "code",
      "metadata": {
        "id": "ygYeHU_M2jEX",
        "colab_type": "code",
        "colab": {
          "base_uri": "https://localhost:8080/",
          "height": 704
        },
        "outputId": "2b97823d-688b-4665-f611-f08330b13419"
      },
      "source": [
        "dd=pd.read_csv('/content/gdrive/My Drive/LDC/Data/European Union_MFN.csv')\n",
        "print(\"Years available:\",', '.join([str(y) for y in dd.year.unique()]))\n",
        "print('Number of codes per year:')\n",
        "display(dd.groupby('year',as_index=False)['HS6'].count())\n",
        "dd.head()"
      ],
      "execution_count": null,
      "outputs": [
        {
          "output_type": "stream",
          "text": [
            "Years available: 1996, 1997, 1998, 1999, 2000, 2001, 2002, 2004, 2007, 2009, 2013, 2015, 2016, 2017\n",
            "Number of codes per year:\n"
          ],
          "name": "stdout"
        },
        {
          "output_type": "display_data",
          "data": {
            "text/html": [
              "<div>\n",
              "<style scoped>\n",
              "    .dataframe tbody tr th:only-of-type {\n",
              "        vertical-align: middle;\n",
              "    }\n",
              "\n",
              "    .dataframe tbody tr th {\n",
              "        vertical-align: top;\n",
              "    }\n",
              "\n",
              "    .dataframe thead th {\n",
              "        text-align: right;\n",
              "    }\n",
              "</style>\n",
              "<table border=\"1\" class=\"dataframe\">\n",
              "  <thead>\n",
              "    <tr style=\"text-align: right;\">\n",
              "      <th></th>\n",
              "      <th>year</th>\n",
              "      <th>HS6</th>\n",
              "    </tr>\n",
              "  </thead>\n",
              "  <tbody>\n",
              "    <tr>\n",
              "      <th>0</th>\n",
              "      <td>1996</td>\n",
              "      <td>5113</td>\n",
              "    </tr>\n",
              "    <tr>\n",
              "      <th>1</th>\n",
              "      <td>1997</td>\n",
              "      <td>5113</td>\n",
              "    </tr>\n",
              "    <tr>\n",
              "      <th>2</th>\n",
              "      <td>1998</td>\n",
              "      <td>5113</td>\n",
              "    </tr>\n",
              "    <tr>\n",
              "      <th>3</th>\n",
              "      <td>1999</td>\n",
              "      <td>5113</td>\n",
              "    </tr>\n",
              "    <tr>\n",
              "      <th>4</th>\n",
              "      <td>2000</td>\n",
              "      <td>5113</td>\n",
              "    </tr>\n",
              "    <tr>\n",
              "      <th>5</th>\n",
              "      <td>2001</td>\n",
              "      <td>5113</td>\n",
              "    </tr>\n",
              "    <tr>\n",
              "      <th>6</th>\n",
              "      <td>2002</td>\n",
              "      <td>5224</td>\n",
              "    </tr>\n",
              "    <tr>\n",
              "      <th>7</th>\n",
              "      <td>2004</td>\n",
              "      <td>5224</td>\n",
              "    </tr>\n",
              "    <tr>\n",
              "      <th>8</th>\n",
              "      <td>2007</td>\n",
              "      <td>5052</td>\n",
              "    </tr>\n",
              "    <tr>\n",
              "      <th>9</th>\n",
              "      <td>2009</td>\n",
              "      <td>5051</td>\n",
              "    </tr>\n",
              "    <tr>\n",
              "      <th>10</th>\n",
              "      <td>2013</td>\n",
              "      <td>5205</td>\n",
              "    </tr>\n",
              "    <tr>\n",
              "      <th>11</th>\n",
              "      <td>2015</td>\n",
              "      <td>4383</td>\n",
              "    </tr>\n",
              "    <tr>\n",
              "      <th>12</th>\n",
              "      <td>2016</td>\n",
              "      <td>5205</td>\n",
              "    </tr>\n",
              "    <tr>\n",
              "      <th>13</th>\n",
              "      <td>2017</td>\n",
              "      <td>5387</td>\n",
              "    </tr>\n",
              "  </tbody>\n",
              "</table>\n",
              "</div>"
            ],
            "text/plain": [
              "    year   HS6\n",
              "0   1996  5113\n",
              "1   1997  5113\n",
              "2   1998  5113\n",
              "3   1999  5113\n",
              "4   2000  5113\n",
              "5   2001  5113\n",
              "6   2002  5224\n",
              "7   2004  5224\n",
              "8   2007  5052\n",
              "9   2009  5051\n",
              "10  2013  5205\n",
              "11  2015  4383\n",
              "12  2016  5205\n",
              "13  2017  5387"
            ]
          },
          "metadata": {
            "tags": []
          }
        },
        {
          "output_type": "execute_result",
          "data": {
            "text/html": [
              "<div>\n",
              "<style scoped>\n",
              "    .dataframe tbody tr th:only-of-type {\n",
              "        vertical-align: middle;\n",
              "    }\n",
              "\n",
              "    .dataframe tbody tr th {\n",
              "        vertical-align: top;\n",
              "    }\n",
              "\n",
              "    .dataframe thead th {\n",
              "        text-align: right;\n",
              "    }\n",
              "</style>\n",
              "<table border=\"1\" class=\"dataframe\">\n",
              "  <thead>\n",
              "    <tr style=\"text-align: right;\">\n",
              "      <th></th>\n",
              "      <th>importerCode</th>\n",
              "      <th>importer</th>\n",
              "      <th>HS6</th>\n",
              "      <th>year</th>\n",
              "      <th>preference</th>\n",
              "      <th>tariff_pct</th>\n",
              "    </tr>\n",
              "  </thead>\n",
              "  <tbody>\n",
              "    <tr>\n",
              "      <th>0</th>\n",
              "      <td>918</td>\n",
              "      <td>European Union</td>\n",
              "      <td>10391</td>\n",
              "      <td>1996</td>\n",
              "      <td>MFN</td>\n",
              "      <td>14.8</td>\n",
              "    </tr>\n",
              "    <tr>\n",
              "      <th>1</th>\n",
              "      <td>918</td>\n",
              "      <td>European Union</td>\n",
              "      <td>10593</td>\n",
              "      <td>1996</td>\n",
              "      <td>MFN</td>\n",
              "      <td>16.1</td>\n",
              "    </tr>\n",
              "    <tr>\n",
              "      <th>2</th>\n",
              "      <td>918</td>\n",
              "      <td>European Union</td>\n",
              "      <td>10599</td>\n",
              "      <td>1996</td>\n",
              "      <td>MFN</td>\n",
              "      <td>11.6</td>\n",
              "    </tr>\n",
              "    <tr>\n",
              "      <th>3</th>\n",
              "      <td>918</td>\n",
              "      <td>European Union</td>\n",
              "      <td>20120</td>\n",
              "      <td>1996</td>\n",
              "      <td>MFN</td>\n",
              "      <td>108.7</td>\n",
              "    </tr>\n",
              "    <tr>\n",
              "      <th>4</th>\n",
              "      <td>918</td>\n",
              "      <td>European Union</td>\n",
              "      <td>20220</td>\n",
              "      <td>1996</td>\n",
              "      <td>MFN</td>\n",
              "      <td>79.1</td>\n",
              "    </tr>\n",
              "  </tbody>\n",
              "</table>\n",
              "</div>"
            ],
            "text/plain": [
              "   importerCode        importer    HS6  year preference  tariff_pct\n",
              "0           918  European Union  10391  1996        MFN        14.8\n",
              "1           918  European Union  10593  1996        MFN        16.1\n",
              "2           918  European Union  10599  1996        MFN        11.6\n",
              "3           918  European Union  20120  1996        MFN       108.7\n",
              "4           918  European Union  20220  1996        MFN        79.1"
            ]
          },
          "metadata": {
            "tags": []
          },
          "execution_count": 15
        }
      ]
    },
    {
      "cell_type": "markdown",
      "metadata": {
        "id": "xtRMAOAFxcVC",
        "colab_type": "text"
      },
      "source": [
        "\n",
        "# DATA MINING: extract data from PDF files.\n",
        "There are three sources of tariff data that will be extracted from legal documents: <br>\n",
        "\n",
        "1. __ACP-EEC convention__ of 5 March 1990 on the arrangements applicable to agricultural products and certain goods resulting from the processing of agricultural products originating in the ACP States or in the overseas countries and territories (OCT) from the [COUNCIL REGULATION (EEC) No 715/90](https://op.europa.eu/en/publication-detail/-/publication/f804b179-db24-472d-af50-abd255af0b5d)\n",
        "2. __Scheme of generalised tariff preferences__ for the period 1 July 1999 to 31 December 2001 from [COUNCIL REGULATION (EC) No 2820/98](https://eur-lex.europa.eu/legal-content/EN/TXT/PDF/?uri=CELEX:31998R2820&from=en)\n",
        "\n",
        "3. __Scheme of generalised tariff preferences__ for the period from 1 January 2002 to 31\n",
        "December 2004 from [COUNCIL REGULATION (EC) No 2501/2001](https://eur-lex.europa.eu/resource.html?uri=cellar:639b8f1a-836e-4eda-ad98-d0ae3839900b.0004.02/DOC_1&format=PDF)"
      ]
    },
    {
      "cell_type": "code",
      "metadata": {
        "id": "vHlim0rWthSe",
        "colab_type": "code",
        "colab": {
          "base_uri": "https://localhost:8080/",
          "height": 102
        },
        "outputId": "c429e99b-5b4b-4344-9144-9219c047097b"
      },
      "source": [
        "# save urls in dictionnary\n",
        "urls={'eu_1989':'https://eur-lex.europa.eu/legal-content/EN/TXT/PDF/?uri=CELEX:31989R0571&qid=1590343851250&from=EN',\n",
        "    'eu_1990':'https://eur-lex.europa.eu/legal-content/EN/TXT/PDF/?uri=CELEX:31990R0715&from=EN',\n",
        "    'eu_1998':'https://eur-lex.europa.eu/legal-content/EN/TXT/PDF/?uri=CELEX:31998R2820&from=en',\n",
        "   'eu_2001':'https://eur-lex.europa.eu/resource.html?uri=cellar:639b8f1a-836e-4eda-ad98-d0ae3839900b.0004.02/DOC_1&format=PDF' \n",
        "}\n",
        "# Get pdf from EU's wesites\n",
        "for u in urls.keys():\n",
        "  pathPDF=''.join([dataFolder,u,'.pdf'])\n",
        "  if not os.path.isfile(pathPDF): \n",
        "    myfile = requests.get(urls[u])\n",
        "    print(f'Saving {u}')\n",
        "    open(pathPDF, 'wb').write(myfile.content)\n",
        "  else:\n",
        "    print(f\"{u} PDF already exists.\")  \n",
        "\n",
        "#Split PDF in single pages\n",
        "for euPdf in ['eu_1990','eu_1998']:\n",
        "  inputpdf = PdfFileReader(open(''.join([dataFolder,euPdf,'.pdf']), \"rb\"))\n",
        "  for i in range(inputpdf.numPages) :\n",
        "      output = PdfFileWriter()\n",
        "      output.addPage(inputpdf.getPage(i))\n",
        "      with open(''.join([dataFolder,euPdf,'_',str(i+1),'.pdf']), \"wb\") as outputStream:\n",
        "          output.write(outputStream)"
      ],
      "execution_count": null,
      "outputs": [
        {
          "output_type": "stream",
          "text": [
            "eu_1989 PDF already exists.\n",
            "eu_1990 PDF already exists.\n",
            "eu_1998 PDF already exists.\n",
            "eu_2001 PDF already exists.\n"
          ],
          "name": "stdout"
        },
        {
          "output_type": "stream",
          "text": [
            "PdfReadWarning: Xref table not zero-indexed. ID numbers for objects will be corrected. [pdf.py:1736]\n"
          ],
          "name": "stderr"
        }
      ]
    },
    {
      "cell_type": "markdown",
      "metadata": {
        "id": "pTueOvsA5_vc",
        "colab_type": "text"
      },
      "source": [
        "## EU 1990 Tariffs (Lomé accords with ACP countries)\n"
      ]
    },
    {
      "cell_type": "markdown",
      "metadata": {
        "id": "rxah1Q0MH4LU",
        "colab_type": "text"
      },
      "source": [
        "### Beneficiaries\n",
        "__Article 1.1__ \n",
        "\n",
        "_This Regulation shall apply to products originating\n",
        "in the ACP States listed in Annex I or in the countries and territories listed in Annex II._\n",
        "\n",
        "__Article 15__\n",
        "\n",
        "Lists goods that shall be imported free of customs duties.\n",
        "\n",
        "Beneficiary countries in Annex I p22\n"
      ]
    },
    {
      "cell_type": "code",
      "metadata": {
        "id": "uYavQndaMrfv",
        "colab_type": "code",
        "colab": {
          "base_uri": "https://localhost:8080/",
          "height": 221
        },
        "outputId": "d69f6fe7-6ba3-4c74-adc4-6fe8cda97e24"
      },
      "source": [
        "# instantiate list of beneficiaries\n",
        "ben=[]\n",
        "# Text to ignore\n",
        "notCountry = [\"^No\",\"^ANNEX\",\"^LIST\"]\n",
        "# Make a regex that matches if any of my regexes match.\n",
        "combined = \"(\" + \")|(\".join(notCountry) + \")\"\n",
        "# Read pdf to lxml\n",
        "raw=parser.from_file(''.join([dataFolder,'eu_1990_22.pdf']),xmlContent=True)['content']\n",
        "txt=BeautifulSoup(raw,'lxml')\n",
        "#iterate over paragraphes\n",
        "rows = txt.find_all('p')\n",
        "for r in rows:\n",
        "  # Iterate over country names\n",
        "  countries=r.get_text().splitlines()\n",
        "  for country in countries:\n",
        "    # Clean countries that contain accents\n",
        "    if not re.match(combined, country):\n",
        "      if country in [\"Cdte-d'Ivoire\",\"Sio Tom6 and Principe\"]:\n",
        "        country=country.replace(\"Cdte-d'Ivoire\",\"Cote-d'Ivoire\")\n",
        "        country=country.replace(\"Sio Tom6 and Principe\",\"Sao Tome and Principe\")\n",
        "      if country != '':\n",
        "        # append country to list\n",
        "        ben.append(country.upper())\n",
        "# Save in a DF        \n",
        "df=pd.DataFrame({'beneficiary_eu_1990':np.sort(ben)})\n",
        "# To CSV\n",
        "df.to_csv(''.join([dataFolder, 'beneficiaries_eu_1990.csv']),index=False)\n",
        "print(f\"There {len(df)} beneficiaries listed.\")\n",
        "df.head()"
      ],
      "execution_count": null,
      "outputs": [
        {
          "output_type": "stream",
          "text": [
            "There 68 beneficiaries listed.\n"
          ],
          "name": "stdout"
        },
        {
          "output_type": "execute_result",
          "data": {
            "text/html": [
              "<div>\n",
              "<style scoped>\n",
              "    .dataframe tbody tr th:only-of-type {\n",
              "        vertical-align: middle;\n",
              "    }\n",
              "\n",
              "    .dataframe tbody tr th {\n",
              "        vertical-align: top;\n",
              "    }\n",
              "\n",
              "    .dataframe thead th {\n",
              "        text-align: right;\n",
              "    }\n",
              "</style>\n",
              "<table border=\"1\" class=\"dataframe\">\n",
              "  <thead>\n",
              "    <tr style=\"text-align: right;\">\n",
              "      <th></th>\n",
              "      <th>beneficiary_eu_1990</th>\n",
              "    </tr>\n",
              "  </thead>\n",
              "  <tbody>\n",
              "    <tr>\n",
              "      <th>0</th>\n",
              "      <td>ANGOLA</td>\n",
              "    </tr>\n",
              "    <tr>\n",
              "      <th>1</th>\n",
              "      <td>ANTIGUA AND BARBUDA</td>\n",
              "    </tr>\n",
              "    <tr>\n",
              "      <th>2</th>\n",
              "      <td>BAHAMAS</td>\n",
              "    </tr>\n",
              "    <tr>\n",
              "      <th>3</th>\n",
              "      <td>BARBADOS</td>\n",
              "    </tr>\n",
              "    <tr>\n",
              "      <th>4</th>\n",
              "      <td>BELIZE</td>\n",
              "    </tr>\n",
              "  </tbody>\n",
              "</table>\n",
              "</div>"
            ],
            "text/plain": [
              "   beneficiary_eu_1990\n",
              "0               ANGOLA\n",
              "1  ANTIGUA AND BARBUDA\n",
              "2              BAHAMAS\n",
              "3             BARBADOS\n",
              "4               BELIZE"
            ]
          },
          "metadata": {
            "tags": []
          },
          "execution_count": 42
        }
      ]
    },
    {
      "cell_type": "markdown",
      "metadata": {
        "id": "bF0P189ueMII",
        "colab_type": "text"
      },
      "source": [
        "## Eu 1998 Tariffs (GSP - LDC)"
      ]
    },
    {
      "cell_type": "markdown",
      "metadata": {
        "id": "yCpceA9zEQ5i",
        "colab_type": "text"
      },
      "source": [
        "### Beneficiaries\n",
        "\n",
        "__Annex III__ p 80: \"_List of beneficiary countries and territories enjoying generalised tariff preferences_\" <br>\n",
        "\n",
        "If dataframe contains in comment:<br>\n",
        "_(1) Preferences for these countries are limited to the agricultural products in Chapters 1 to 24 of the Combined Nomenclature listed in Annex I._<br>\n",
        "_(2) This country is also included in Annex IV._<br>\n",
        "_(3) This country is also included in Annex V._<br>\n",
        "\n",
        "__Annex IV__ p82: \n",
        "\"_List of least-developed developing countries_\" <br>\n",
        "\n",
        "__Annex V__ p82: \n",
        "ANNEX V\n",
        "\n",
        "_List of countries referred to in [Article 7](#article7)_ <br>\n",
        "\n",
        "Andean Group<br>\n",
        "CO Colombia<br>\n",
        "VE Venezuela<br>\n",
        "EC Ecuador<br>\n",
        "PE Peru<br>\n",
        "BO Bolivia<br>\n",
        "\n",
        "Central American Common Market<br>\n",
        "GT Guatemala<br>\n",
        "HN Honduras<br>\n",
        "SV El Salvador<br>\n",
        "NI Nicaragua<br>\n",
        "CR Costa Rica<br>\n",
        "PA Panama\n"
      ]
    },
    {
      "cell_type": "code",
      "metadata": {
        "id": "RBwUtLuzHSS2",
        "colab_type": "code",
        "colab": {
          "base_uri": "https://localhost:8080/",
          "height": 428
        },
        "outputId": "d0eb1ad8-1037-4fc9-a40f-661a160030df"
      },
      "source": [
        "print('Starting Annexes III')\n",
        "\n",
        "ben=[]\n",
        "notCountry = [\"^L 357/80\",\"^ANNEX\",\"^List of\",\"^A\\. INDEPENDENT\",r\"\\(\\*\\) THE\"]\n",
        "# Make a regex that matches if any of my regexes match.\n",
        "combined = \"(\" + \")|(\".join(notCountry) + \")\"\n",
        "pdfFile=''.join(['eu_1998_80','.pdf'])\n",
        "# Parse PDF\n",
        "raw=parser.from_file(''.join([dataFolder,pdfFile]),xmlContent=True)['content']\n",
        "txt=BeautifulSoup(raw,'lxml')\n",
        "# Find paragraphs\n",
        "rows = txt.find_all('p')\n",
        "for r in rows:\n",
        "  # Iterate over country names\n",
        "  countries=r.get_text().splitlines()\n",
        "  for country in countries:\n",
        "    # Clean countries that contain accents\n",
        "    if not re.match(combined, country):\n",
        "      if country != '':\n",
        "        if country=='XM Former Yugoslav Republic of':\n",
        "          break\n",
        "        else:\n",
        "          if country=='Macedonia (1)':\n",
        "            country='XM MACEDONIA (1)'\n",
        "        # append country to list\n",
        "        ben.append(unidecode.unidecode(country.upper()))\n",
        "        \n",
        "# Save in a DF        \n",
        "ben=ben[:-5]\n",
        "ben.sort()\n",
        "df=pd.DataFrame({'beneficiary_1998':ben})\n",
        "df[['beneficiary_1998','comment']]=df.beneficiary_1998.str.split('(\\([0-9]\\))$',n=1,expand=True).iloc[:,0:2]\n",
        "df['beneficiary_1998']=df.beneficiary_1998.str.split(' ',n=1).str[1]\n",
        "df['beneficiary_1998']=df['beneficiary_1998'].astype(str).str.rstrip()\n",
        "#Correct typo:\n",
        "df.loc[df.beneficiary_1998=='ETHIOPA','beneficiary_1998']='ETHIOPIA'\n",
        "df['GSP']=1\n",
        "print(f\"\\nThe data contains {len(df)} countries including {len(df.loc[df.comment=='(2)'])} from LDC. \")\n",
        "\n",
        "print(\"\\n\\n\")\n",
        "print('Starting Annexes IV and V')\n",
        "ben=[]\n",
        "notCountry = [\"^L 357/82\",\"^ANNEX\",\"^List of\",\"^A\\. INDEPENDENT\",r\"\\(\\*\\) THE\"]\n",
        "p = re.compile(\"^\\w\\w\\s(.*)\")\n",
        "\n",
        "# Make a regex that matches if any of my regexes match.\n",
        "combined = \"(\" + \")|(\".join(notCountry) + \")\"\n",
        "pdfFile=''.join(['eu_1998_82','.pdf'])\n",
        "# Parse PDF\n",
        "raw=parser.from_file(''.join([dataFolder,pdfFile]),xmlContent=True)['content']\n",
        "txt=BeautifulSoup(raw,'lxml')\n",
        "# Find paragraphs\n",
        "rows = txt.find_all('p')\n",
        "for r in rows:\n",
        "  # Iterate over country names\n",
        "  countries=r.get_text().splitlines()\n",
        "  for country in countries:\n",
        "    # Clean countries that contain accents\n",
        "    if not re.match(combined, country):\n",
        "      if country != '':\n",
        "        if country=='XM Former Yugoslav Republic of':\n",
        "          break\n",
        "        else:\n",
        "          if country=='Macedonia (1)':\n",
        "            country='XM MACEDONIA (1)'\n",
        "        # append country to list\n",
        "        country=unidecode.unidecode(country.upper())\n",
        "        try:\n",
        "          ben.append(p.match(country).group(1))\n",
        "        except AttributeError:\n",
        "          pass\n",
        "          \n",
        "ldc=ben[:ben.index('SAMOA') +1]\n",
        "ldc = ['MYANMAR (FORMERLY BURMA)' if x=='MYANMAR (FORMERLY' else x for x in ldc]\n",
        "\n",
        "other=ben[ben.index('SAMOA') +1:]\n",
        "\n",
        "df['LDC']=(df.beneficiary_1998.isin(ldc)).astype(int)\n",
        "df['A7']=(df.beneficiary_1998.isin(other)).astype(int)\n",
        "df.loc[~df.comment.isna(),'GSP']=0\n",
        "\n",
        "print(f\"There are {len(ldc)} countries in LDC and {len(df.loc[df.comment=='(2)'])} counted as LDC in the Annex III.\\n\\\n",
        "There are {len(other)} countries in Article 7 and {len(df.loc[df.comment=='(3)'])} counted as Article 7 in the Annex III.\")\n",
        "df.pop('comment')\n",
        "df.head()"
      ],
      "execution_count": null,
      "outputs": [
        {
          "output_type": "stream",
          "text": [
            "2020-06-30 18:16:16,067 [MainThread  ] [INFO ]  Retrieving http://search.maven.org/remotecontent?filepath=org/apache/tika/tika-server/1.24/tika-server-1.24.jar to /tmp/tika-server.jar.\n"
          ],
          "name": "stderr"
        },
        {
          "output_type": "stream",
          "text": [
            "Starting Annexes III\n"
          ],
          "name": "stdout"
        },
        {
          "output_type": "stream",
          "text": [
            "2020-06-30 18:16:17,355 [MainThread  ] [INFO ]  Retrieving http://search.maven.org/remotecontent?filepath=org/apache/tika/tika-server/1.24/tika-server-1.24.jar.md5 to /tmp/tika-server.jar.md5.\n",
            "2020-06-30 18:16:17,722 [MainThread  ] [WARNI]  Failed to see startup log message; retrying...\n"
          ],
          "name": "stderr"
        },
        {
          "output_type": "stream",
          "text": [
            "\n",
            "The data contains 146 countries including 48 from LDC. \n",
            "\n",
            "\n",
            "\n",
            "Starting Annexes IV and V\n",
            "There are 48 countries in LDC and 48 counted as LDC in the Annex III.\n",
            "There are 11 countries in Article 7 and 11 counted as Article 7 in the Annex III.\n"
          ],
          "name": "stdout"
        },
        {
          "output_type": "execute_result",
          "data": {
            "text/html": [
              "<div>\n",
              "<style scoped>\n",
              "    .dataframe tbody tr th:only-of-type {\n",
              "        vertical-align: middle;\n",
              "    }\n",
              "\n",
              "    .dataframe tbody tr th {\n",
              "        vertical-align: top;\n",
              "    }\n",
              "\n",
              "    .dataframe thead th {\n",
              "        text-align: right;\n",
              "    }\n",
              "</style>\n",
              "<table border=\"1\" class=\"dataframe\">\n",
              "  <thead>\n",
              "    <tr style=\"text-align: right;\">\n",
              "      <th></th>\n",
              "      <th>beneficiary_1998</th>\n",
              "      <th>GSP</th>\n",
              "      <th>LDC</th>\n",
              "      <th>A7</th>\n",
              "    </tr>\n",
              "  </thead>\n",
              "  <tbody>\n",
              "    <tr>\n",
              "      <th>0</th>\n",
              "      <td>UNITED ARAB EMIRATES</td>\n",
              "      <td>1</td>\n",
              "      <td>0</td>\n",
              "      <td>0</td>\n",
              "    </tr>\n",
              "    <tr>\n",
              "      <th>1</th>\n",
              "      <td>AFGHANISTAN</td>\n",
              "      <td>0</td>\n",
              "      <td>1</td>\n",
              "      <td>0</td>\n",
              "    </tr>\n",
              "    <tr>\n",
              "      <th>2</th>\n",
              "      <td>ANTIGUA AND BARBUDA</td>\n",
              "      <td>1</td>\n",
              "      <td>0</td>\n",
              "      <td>0</td>\n",
              "    </tr>\n",
              "    <tr>\n",
              "      <th>3</th>\n",
              "      <td>ALBANIA</td>\n",
              "      <td>1</td>\n",
              "      <td>0</td>\n",
              "      <td>0</td>\n",
              "    </tr>\n",
              "    <tr>\n",
              "      <th>4</th>\n",
              "      <td>ARMENIA</td>\n",
              "      <td>1</td>\n",
              "      <td>0</td>\n",
              "      <td>0</td>\n",
              "    </tr>\n",
              "  </tbody>\n",
              "</table>\n",
              "</div>"
            ],
            "text/plain": [
              "       beneficiary_1998  GSP  LDC  A7\n",
              "0  UNITED ARAB EMIRATES    1    0   0\n",
              "1           AFGHANISTAN    0    1   0\n",
              "2   ANTIGUA AND BARBUDA    1    0   0\n",
              "3               ALBANIA    1    0   0\n",
              "4               ARMENIA    1    0   0"
            ]
          },
          "metadata": {
            "tags": []
          },
          "execution_count": 7
        }
      ]
    },
    {
      "cell_type": "markdown",
      "metadata": {
        "id": "eRr6Lk2REPZF",
        "colab_type": "text"
      },
      "source": [
        "### Tariffs\n",
        "\n",
        "__Article 1.2__ <br>\n",
        "\n",
        "p4. This Regulation shall apply to products falling within\n",
        "Chapters 1 to 97 of the Common Customs Tariff,\n",
        "excluding Chapter 93, which are listed in <font color='red'>Annex I</font>. It shall only apply to the products listed in Annex VII on\n",
        "the conditions laid down in Articles 6 and 7 <br>\n",
        "\n",
        "__Article 2__ <br>\n",
        " The preferential duty applying to products listed in\n",
        "_Part 1 of Annex I_ shall be 85 % of the Common\n",
        "Customs Tariff duty applicable to the product concerned, without prejudice to the provisions of Title II.<br>\n",
        "The preferential duty applying to products listed in _Part 2 of Annex I_ shall be 70 % of the Common\n",
        "Customs Tariff duty applicable to the product concerned, without prejudice to the provisions of Title II. <br>\n",
        "The preferential duty applying to products listed in _Part 3 of Annex I_ shall be 35 % of the Common\n",
        "Customs Tariff duty applicable to the product concerned,\n",
        "without prejudice to the provisions of Title II.\n",
        "Common Customs Tariff duties shall be suspended in\n",
        "their entirety on products listed in _Part 4 of Annex I_.\n",
        "\n",
        "__Article 6__ <br>\n",
        "For the least-developed countries listed in annex IV, Common Customs Tariff duties shall be suspended in their <font color='red'>entirety</font> in respect of the products listed in Annex I and <font color='red'>reduced</font> according to the modulation mechanism provided for in <font color='red'>Article 2</font> in respect of the products listed in <font color='red'>Annex VII</font>. <br>\n",
        "\n",
        "<font color='red'>My interpretation:</font> <font color='blue'>For LDC countries, any good listed in Annex I should be zero. If a good is listed in Annex VII then tariffs should be 85% of MFN for part 1, 70% of MFN for part 2, 35% of MFN for part 3 and 0% for part 4. </font> <br>\n",
        "\n",
        "__Article 7__ <a id='article7'></a>\n",
        "<br>\n",
        "For the countries listed in <font color='red'>Annex V</font>, Common Customs\n",
        "Tariff duties shall be suspended in their entirety on the industrial products listed in Annex I falling within Chapters 25 to 97 of the Common Customs Tariff, excluding Chapter 93, and on the agricultural products listed in Annex VII, except for those marked with an asterisk and without prejudice to the procedure described\n",
        "in Article 31(3). <br>\n",
        "\n",
        "\n"
      ]
    },
    {
      "cell_type": "markdown",
      "metadata": {
        "id": "lO7S4oTMlb3P",
        "colab_type": "text"
      },
      "source": [
        "__Annex I__ <br>\n",
        "Part 1: p15-28 <br>\n",
        "Part 2: p29-47 <br>\n",
        "Part 3: p48-62 <br>\n",
        "Part 4: p63-72 <br>\n",
        "\n",
        "__Annex VII__ <br>\n",
        "Part 1: p84-90 <br>\n",
        "Part 2: p91-92 <br>\n",
        "Part 3: p92 <br>\n",
        "Part 4: p93-107 <br>"
      ]
    },
    {
      "cell_type": "code",
      "metadata": {
        "id": "GrXyplqXMk1W",
        "colab_type": "code",
        "colab": {}
      },
      "source": [
        "parts={'Part 1':range(15,29),'Part 2':range(29,48),'Part 3': range(48,63),'Part 4': range(63,73)}\n",
        "parts2={'Part 1':range(84,91),'Part 2':range(91-92),'Part 3': 92,'Part 4':range(93,108)}"
      ],
      "execution_count": null,
      "outputs": []
    },
    {
      "cell_type": "code",
      "metadata": {
        "id": "IxgD2RYwyGgK",
        "colab_type": "code",
        "colab": {
          "base_uri": "https://localhost:8080/",
          "height": 1000
        },
        "outputId": "ddbcf0be-322c-4997-ed14-6eeb559fe5e6"
      },
      "source": [
        "# Create DataFrame list:\n",
        "DFs=[]\n",
        "#Loop over the 4 parts\n",
        "for i, v in enumerate(parts.keys()):\n",
        "  # Set variable lists\n",
        "  hs_code=[] ; hs_level=[] ; comments=[]\n",
        "  for page in parts[v]:\n",
        "\n",
        "    pdfFile=''.join(['eu_1998_',str(page),'.pdf'])\n",
        "    # Parse PDF\n",
        "    raw=parser.from_file(''.join([dataFolder,pdfFile]),xmlContent=True)['content']\n",
        "    txt=BeautifulSoup(raw,'lxml')\n",
        "\n",
        "    # Find paragraphs\n",
        "    rows = txt.find_all('p')\n",
        "    #Iterate over rows\n",
        "    for s in rows:\n",
        "      s=s.get_text()\n",
        "      # Print out the Part\n",
        "      if re.match(r\"(?i)^Part\",s):\n",
        "        print(s)\n",
        "      # Deal with exceptions\n",
        "      if re.match(r\"(?i)^ex\",s):\n",
        "        try:\n",
        "          ss=re.search('(?i)[0-9]{1,4}(\\s[0-9]{2}){0,2}', s).group()\n",
        "          hs=ss.replace(\" \",\"\")\n",
        "          # Append to lists\n",
        "          hs_code.append(hs) ; hs_level.append(len(hs)) ; comments.append(s.split(ss)[1])\n",
        "        except AttributeError:\n",
        "          pass\n",
        "      elif re.match(r\"(?i)[0-9]{1,4}(\\s[0-9]{2}){0,2}\",s):\n",
        "        hs=re.search('(?i)[0-9]{1,4}(\\s[0-9]{2}){0,2}', s).group().replace(\" \",\"\")         \n",
        "        # Append to lists\n",
        "        hs_code.append(hs) ; hs_level.append(len(hs)) ; comments.append(np.nan)\n",
        "      else:\n",
        "        pass\n",
        "\n",
        "  assert len(hs_code)==len(hs_level) ; assert len(hs_code)==len(comments)\n",
        "\n",
        "  df=pd.DataFrame({'HScode':hs_code, 'HSlevel':hs_level, 'comment':comments})\n",
        "  i+=1\n",
        "  df['part']= np.full((len(df), 1), i, dtype=np.int8) \n",
        "\n",
        "  display(df.info())\n",
        "  DFs.append(df)\n",
        "  \n",
        "df=pd.concat(DFs)\n",
        "df.reset_index(inplace=True, drop=True)\n",
        "df.head().append(df.tail())"
      ],
      "execution_count": null,
      "outputs": [
        {
          "output_type": "stream",
          "text": [
            "PART 1\n",
            "\n",
            "<class 'pandas.core.frame.DataFrame'>\n",
            "RangeIndex: 288 entries, 0 to 287\n",
            "Data columns (total 4 columns):\n",
            " #   Column   Non-Null Count  Dtype \n",
            "---  ------   --------------  ----- \n",
            " 0   HScode   288 non-null    object\n",
            " 1   HSlevel  288 non-null    int64 \n",
            " 2   comment  16 non-null     object\n",
            " 3   part     288 non-null    int8  \n",
            "dtypes: int64(1), int8(1), object(2)\n",
            "memory usage: 7.2+ KB\n"
          ],
          "name": "stdout"
        },
        {
          "output_type": "display_data",
          "data": {
            "text/plain": [
              "None"
            ]
          },
          "metadata": {
            "tags": []
          }
        },
        {
          "output_type": "stream",
          "text": [
            "PART 2\n",
            "\n",
            "<class 'pandas.core.frame.DataFrame'>\n",
            "RangeIndex: 422 entries, 0 to 421\n",
            "Data columns (total 4 columns):\n",
            " #   Column   Non-Null Count  Dtype \n",
            "---  ------   --------------  ----- \n",
            " 0   HScode   422 non-null    object\n",
            " 1   HSlevel  422 non-null    int64 \n",
            " 2   comment  11 non-null     object\n",
            " 3   part     422 non-null    int8  \n",
            "dtypes: int64(1), int8(1), object(2)\n",
            "memory usage: 10.4+ KB\n"
          ],
          "name": "stdout"
        },
        {
          "output_type": "display_data",
          "data": {
            "text/plain": [
              "None"
            ]
          },
          "metadata": {
            "tags": []
          }
        },
        {
          "output_type": "stream",
          "text": [
            "PART 3\n",
            "\n",
            "<class 'pandas.core.frame.DataFrame'>\n",
            "RangeIndex: 296 entries, 0 to 295\n",
            "Data columns (total 4 columns):\n",
            " #   Column   Non-Null Count  Dtype \n",
            "---  ------   --------------  ----- \n",
            " 0   HScode   296 non-null    object\n",
            " 1   HSlevel  296 non-null    int64 \n",
            " 2   comment  16 non-null     object\n",
            " 3   part     296 non-null    int8  \n",
            "dtypes: int64(1), int8(1), object(2)\n",
            "memory usage: 7.4+ KB\n"
          ],
          "name": "stdout"
        },
        {
          "output_type": "display_data",
          "data": {
            "text/plain": [
              "None"
            ]
          },
          "metadata": {
            "tags": []
          }
        },
        {
          "output_type": "stream",
          "text": [
            "PART 4\n",
            "\n",
            "<class 'pandas.core.frame.DataFrame'>\n",
            "RangeIndex: 155 entries, 0 to 154\n",
            "Data columns (total 4 columns):\n",
            " #   Column   Non-Null Count  Dtype \n",
            "---  ------   --------------  ----- \n",
            " 0   HScode   155 non-null    object\n",
            " 1   HSlevel  155 non-null    int64 \n",
            " 2   comment  18 non-null     object\n",
            " 3   part     155 non-null    int8  \n",
            "dtypes: int64(1), int8(1), object(2)\n",
            "memory usage: 3.9+ KB\n"
          ],
          "name": "stdout"
        },
        {
          "output_type": "display_data",
          "data": {
            "text/plain": [
              "None"
            ]
          },
          "metadata": {
            "tags": []
          }
        },
        {
          "output_type": "execute_result",
          "data": {
            "text/html": [
              "<div>\n",
              "<style scoped>\n",
              "    .dataframe tbody tr th:only-of-type {\n",
              "        vertical-align: middle;\n",
              "    }\n",
              "\n",
              "    .dataframe tbody tr th {\n",
              "        vertical-align: top;\n",
              "    }\n",
              "\n",
              "    .dataframe thead th {\n",
              "        text-align: right;\n",
              "    }\n",
              "</style>\n",
              "<table border=\"1\" class=\"dataframe\">\n",
              "  <thead>\n",
              "    <tr style=\"text-align: right;\">\n",
              "      <th></th>\n",
              "      <th>HScode</th>\n",
              "      <th>HSlevel</th>\n",
              "      <th>comment</th>\n",
              "      <th>part</th>\n",
              "    </tr>\n",
              "  </thead>\n",
              "  <tbody>\n",
              "    <tr>\n",
              "      <th>0</th>\n",
              "      <td>01012010</td>\n",
              "      <td>8</td>\n",
              "      <td>NaN</td>\n",
              "      <td>1</td>\n",
              "    </tr>\n",
              "    <tr>\n",
              "      <th>1</th>\n",
              "      <td>03019190</td>\n",
              "      <td>8</td>\n",
              "      <td>NaN</td>\n",
              "      <td>1</td>\n",
              "    </tr>\n",
              "    <tr>\n",
              "      <th>2</th>\n",
              "      <td>03021190</td>\n",
              "      <td>8</td>\n",
              "      <td>NaN</td>\n",
              "      <td>1</td>\n",
              "    </tr>\n",
              "    <tr>\n",
              "      <th>3</th>\n",
              "      <td>03032190</td>\n",
              "      <td>8</td>\n",
              "      <td>NaN</td>\n",
              "      <td>1</td>\n",
              "    </tr>\n",
              "    <tr>\n",
              "      <th>4</th>\n",
              "      <td>03041011</td>\n",
              "      <td>8</td>\n",
              "      <td>NaN</td>\n",
              "      <td>1</td>\n",
              "    </tr>\n",
              "    <tr>\n",
              "      <th>1156</th>\n",
              "      <td>94038000</td>\n",
              "      <td>8</td>\n",
              "      <td>NaN</td>\n",
              "      <td>4</td>\n",
              "    </tr>\n",
              "    <tr>\n",
              "      <th>1157</th>\n",
              "      <td>940390</td>\n",
              "      <td>6</td>\n",
              "      <td>NaN</td>\n",
              "      <td>4</td>\n",
              "    </tr>\n",
              "    <tr>\n",
              "      <th>1158</th>\n",
              "      <td>940600</td>\n",
              "      <td>6</td>\n",
              "      <td>NaN</td>\n",
              "      <td>4</td>\n",
              "    </tr>\n",
              "    <tr>\n",
              "      <th>1159</th>\n",
              "      <td>95</td>\n",
              "      <td>2</td>\n",
              "      <td>Toys, games and sports requisites; parts and ...</td>\n",
              "      <td>4</td>\n",
              "    </tr>\n",
              "    <tr>\n",
              "      <th>1160</th>\n",
              "      <td>96</td>\n",
              "      <td>2</td>\n",
              "      <td>Miscellaneous manufactures articles, excludin...</td>\n",
              "      <td>4</td>\n",
              "    </tr>\n",
              "  </tbody>\n",
              "</table>\n",
              "</div>"
            ],
            "text/plain": [
              "        HScode  ...  part\n",
              "0     01012010  ...     1\n",
              "1     03019190  ...     1\n",
              "2     03021190  ...     1\n",
              "3     03032190  ...     1\n",
              "4     03041011  ...     1\n",
              "1156  94038000  ...     4\n",
              "1157    940390  ...     4\n",
              "1158    940600  ...     4\n",
              "1159        95  ...     4\n",
              "1160        96  ...     4\n",
              "\n",
              "[10 rows x 4 columns]"
            ]
          },
          "metadata": {
            "tags": []
          },
          "execution_count": 9
        }
      ]
    },
    {
      "cell_type": "code",
      "metadata": {
        "id": "dBv-hJJld1Z-",
        "colab_type": "code",
        "colab": {
          "base_uri": "https://localhost:8080/",
          "height": 204
        },
        "outputId": "7bbfd545-6b1c-47f4-b411-45d52db8b646"
      },
      "source": [
        "df.info()"
      ],
      "execution_count": null,
      "outputs": [
        {
          "output_type": "stream",
          "text": [
            "<class 'pandas.core.frame.DataFrame'>\n",
            "RangeIndex: 1161 entries, 0 to 1160\n",
            "Data columns (total 4 columns):\n",
            " #   Column   Non-Null Count  Dtype \n",
            "---  ------   --------------  ----- \n",
            " 0   HScode   1161 non-null   object\n",
            " 1   HSlevel  1161 non-null   int64 \n",
            " 2   comment  61 non-null     object\n",
            " 3   part     1161 non-null   int8  \n",
            "dtypes: int64(1), int8(1), object(2)\n",
            "memory usage: 28.5+ KB\n"
          ],
          "name": "stdout"
        }
      ]
    },
    {
      "cell_type": "markdown",
      "metadata": {
        "id": "NvsuCMnOB7F8",
        "colab_type": "text"
      },
      "source": [
        "## EU 2001 Tariffs (GSP)"
      ]
    },
    {
      "cell_type": "markdown",
      "metadata": {
        "id": "FO_DyfanD_9B",
        "colab_type": "text"
      },
      "source": [
        "\n",
        "### Beneficiaries\n",
        "p2 of the PDF: \"_The beneficiary countries of each of the arrangements referred\n",
        "to in Article 1(2) are listed in Annex I._\" <br>\n",
        "\n",
        "__Beneficiary countries and territories of the Community's scheme of generalised tariff preferences__<br>\n",
        "__Column A__: code according to the nomenclature of countries and territories for the external trade statistics of the\n",
        "Community<br>\n",
        "__Column B__: name of country<br>\n",
        "__Column C__: sectors not included in the general arrangements for the beneficiary country concerned (Article 7(7))<br>\n",
        "__Column D__: sectors in respect of which tariff preferences have been removed for the beneficiary country concerned\n",
        "(Article 7(8))<br>\n",
        "__Column E__: countries included in the special incentive arrangements for the protection of labour rights (Title III\n",
        "Section 1)<br>\n",
        "__Column F__: sectors included in these arrangements for the beneficiary country concerned (Article 8(1) and (2))<br>\n",
        "Column G: countries included in the special incentive arrangements for the protection of the environment (Title III\n",
        "Section 2)<br>\n",
        "__Column H__: countries included in the special arrangements for least developed countries (Article 9)<br>\n",
        "__Column I__: countries included in the special arrangements to combat drug production and trafficking (Title IV)"
      ]
    },
    {
      "cell_type": "code",
      "metadata": {
        "id": "WTAB9IPiD8j3",
        "colab_type": "code",
        "colab": {
          "base_uri": "https://localhost:8080/",
          "height": 1000
        },
        "outputId": "98dce1aa-a9dd-442a-a6ce-dc50ff01550c"
      },
      "source": [
        "# Extract table for beneficiaries\n",
        "tabs=tb.read_pdf(dataFolder+'eu_2001.pdf',pages='13-18', encoding='latin_1',lattice=True)\n",
        "ben=[]\n",
        "for i in range(1,len(tabs)):\n",
        "  if len(tabs[i].columns)>1:\n",
        "    ben.append(tabs[i])\n",
        "    print(len(tabs[i].columns))\n",
        "ben=pd.concat(ben)\n",
        "ben.rename(columns={'B':'exporter'},inplace=True)\n",
        "display(ben.head().append(ben.tail()))\n",
        "display(ben.info())\n",
        "ben.to_csv(''.join([dataFolder,'beneficiaries_eu_2001.csv']))"
      ],
      "execution_count": null,
      "outputs": [
        {
          "output_type": "stream",
          "text": [
            "Got stderr: May 24, 2020 6:48:52 PM org.apache.pdfbox.pdmodel.font.PDSimpleFont toUnicode\n",
            "WARNING: No Unicode mapping for C65 (65) in font Adve06633w\n",
            "May 24, 2020 6:48:52 PM org.apache.pdfbox.pdmodel.font.PDSimpleFont toUnicode\n",
            "WARNING: No Unicode mapping for C78 (78) in font Adve06633w\n",
            "May 24, 2020 6:48:52 PM org.apache.pdfbox.pdmodel.font.PDSimpleFont toUnicode\n",
            "WARNING: No Unicode mapping for C69 (69) in font Adve06633w\n",
            "May 24, 2020 6:48:52 PM org.apache.pdfbox.pdmodel.font.PDSimpleFont toUnicode\n",
            "WARNING: No Unicode mapping for C88 (88) in font Adve06633w\n",
            "May 24, 2020 6:48:52 PM org.apache.pdfbox.pdmodel.font.PDSimpleFont toUnicode\n",
            "WARNING: No Unicode mapping for C73 (73) in font Adve06633w\n",
            "May 24, 2020 6:48:52 PM org.apache.pdfbox.pdmodel.font.PDSimpleFont toUnicode\n",
            "WARNING: No Unicode mapping for C66 (66) in font Adve06616w\n",
            "May 24, 2020 6:48:52 PM org.apache.pdfbox.pdmodel.font.PDSimpleFont toUnicode\n",
            "WARNING: No Unicode mapping for C101 (101) in font Adve06616w\n",
            "May 24, 2020 6:48:52 PM org.apache.pdfbox.pdmodel.font.PDSimpleFont toUnicode\n",
            "WARNING: No Unicode mapping for C110 (110) in font Adve06616w\n",
            "May 24, 2020 6:48:52 PM org.apache.pdfbox.pdmodel.font.PDSimpleFont toUnicode\n",
            "WARNING: No Unicode mapping for C102 (102) in font Adve06616w\n",
            "May 24, 2020 6:48:52 PM org.apache.pdfbox.pdmodel.font.PDSimpleFont toUnicode\n",
            "WARNING: No Unicode mapping for C105 (105) in font Adve06616w\n",
            "May 24, 2020 6:48:52 PM org.apache.pdfbox.pdmodel.font.PDSimpleFont toUnicode\n",
            "WARNING: No Unicode mapping for C99 (99) in font Adve06616w\n",
            "May 24, 2020 6:48:52 PM org.apache.pdfbox.pdmodel.font.PDSimpleFont toUnicode\n",
            "WARNING: No Unicode mapping for C97 (97) in font Adve06616w\n",
            "May 24, 2020 6:48:52 PM org.apache.pdfbox.pdmodel.font.PDSimpleFont toUnicode\n",
            "WARNING: No Unicode mapping for C114 (114) in font Adve06616w\n",
            "May 24, 2020 6:48:52 PM org.apache.pdfbox.pdmodel.font.PDSimpleFont toUnicode\n",
            "WARNING: No Unicode mapping for C121 (121) in font Adve06616w\n",
            "May 24, 2020 6:48:52 PM org.apache.pdfbox.pdmodel.font.PDSimpleFont toUnicode\n",
            "WARNING: No Unicode mapping for C111 (111) in font Adve06616w\n",
            "May 24, 2020 6:48:52 PM org.apache.pdfbox.pdmodel.font.PDSimpleFont toUnicode\n",
            "WARNING: No Unicode mapping for C117 (117) in font Adve06616w\n",
            "May 24, 2020 6:48:52 PM org.apache.pdfbox.pdmodel.font.PDSimpleFont toUnicode\n",
            "WARNING: No Unicode mapping for C116 (116) in font Adve06616w\n",
            "May 24, 2020 6:48:52 PM org.apache.pdfbox.pdmodel.font.PDSimpleFont toUnicode\n",
            "WARNING: No Unicode mapping for C115 (115) in font Adve06616w\n",
            "May 24, 2020 6:48:52 PM org.apache.pdfbox.pdmodel.font.PDSimpleFont toUnicode\n",
            "WARNING: No Unicode mapping for C100 (100) in font Adve06616w\n",
            "May 24, 2020 6:48:52 PM org.apache.pdfbox.pdmodel.font.PDSimpleFont toUnicode\n",
            "WARNING: No Unicode mapping for C104 (104) in font Adve06616w\n",
            "May 24, 2020 6:48:52 PM org.apache.pdfbox.pdmodel.font.PDSimpleFont toUnicode\n",
            "WARNING: No Unicode mapping for C67 (67) in font Adve06616w\n",
            "May 24, 2020 6:48:52 PM org.apache.pdfbox.pdmodel.font.PDSimpleFont toUnicode\n",
            "WARNING: No Unicode mapping for C109 (109) in font Adve06616w\n",
            "May 24, 2020 6:48:52 PM org.apache.pdfbox.pdmodel.font.PDSimpleFont toUnicode\n",
            "WARNING: No Unicode mapping for C39 (39) in font Adve06616w\n",
            "May 24, 2020 6:48:52 PM org.apache.pdfbox.pdmodel.font.PDSimpleFont toUnicode\n",
            "WARNING: No Unicode mapping for C103 (103) in font Adve06616w\n",
            "May 24, 2020 6:48:52 PM org.apache.pdfbox.pdmodel.font.PDSimpleFont toUnicode\n",
            "WARNING: No Unicode mapping for C108 (108) in font Adve06616w\n",
            "May 24, 2020 6:48:52 PM org.apache.pdfbox.pdmodel.font.PDSimpleFont toUnicode\n",
            "WARNING: No Unicode mapping for C112 (112) in font Adve06616w\n",
            "May 24, 2020 6:48:52 PM org.apache.pdfbox.pdmodel.font.PDSimpleFont toUnicode\n",
            "WARNING: No Unicode mapping for C67 (67) in font Adve06633w\n",
            "May 24, 2020 6:48:52 PM org.apache.pdfbox.pdmodel.font.PDSimpleFont toUnicode\n",
            "WARNING: No Unicode mapping for C111 (111) in font Adve06633w\n",
            "May 24, 2020 6:48:52 PM org.apache.pdfbox.pdmodel.font.PDSimpleFont toUnicode\n",
            "WARNING: No Unicode mapping for C108 (108) in font Adve06633w\n",
            "May 24, 2020 6:48:52 PM org.apache.pdfbox.pdmodel.font.PDSimpleFont toUnicode\n",
            "WARNING: No Unicode mapping for C117 (117) in font Adve06633w\n",
            "May 24, 2020 6:48:52 PM org.apache.pdfbox.pdmodel.font.PDSimpleFont toUnicode\n",
            "WARNING: No Unicode mapping for C109 (109) in font Adve06633w\n",
            "May 24, 2020 6:48:52 PM org.apache.pdfbox.pdmodel.font.PDSimpleFont toUnicode\n",
            "WARNING: No Unicode mapping for C110 (110) in font Adve06633w\n",
            "May 24, 2020 6:48:52 PM org.apache.pdfbox.pdmodel.font.PDSimpleFont toUnicode\n",
            "WARNING: No Unicode mapping for C58 (58) in font Adve06613w\n",
            "May 24, 2020 6:48:52 PM org.apache.pdfbox.pdmodel.font.PDSimpleFont toUnicode\n",
            "WARNING: No Unicode mapping for C99 (99) in font Adve06613w\n",
            "May 24, 2020 6:48:52 PM org.apache.pdfbox.pdmodel.font.PDSimpleFont toUnicode\n",
            "WARNING: No Unicode mapping for C111 (111) in font Adve06613w\n",
            "May 24, 2020 6:48:52 PM org.apache.pdfbox.pdmodel.font.PDSimpleFont toUnicode\n",
            "WARNING: No Unicode mapping for C100 (100) in font Adve06613w\n",
            "May 24, 2020 6:48:52 PM org.apache.pdfbox.pdmodel.font.PDSimpleFont toUnicode\n",
            "WARNING: No Unicode mapping for C101 (101) in font Adve06613w\n",
            "May 24, 2020 6:48:52 PM org.apache.pdfbox.pdmodel.font.PDSimpleFont toUnicode\n",
            "WARNING: No Unicode mapping for C97 (97) in font Adve06613w\n",
            "May 24, 2020 6:48:52 PM org.apache.pdfbox.pdmodel.font.PDSimpleFont toUnicode\n",
            "WARNING: No Unicode mapping for C114 (114) in font Adve06613w\n",
            "May 24, 2020 6:48:52 PM org.apache.pdfbox.pdmodel.font.PDSimpleFont toUnicode\n",
            "WARNING: No Unicode mapping for C105 (105) in font Adve06613w\n",
            "May 24, 2020 6:48:52 PM org.apache.pdfbox.pdmodel.font.PDSimpleFont toUnicode\n",
            "WARNING: No Unicode mapping for C110 (110) in font Adve06613w\n",
            "May 24, 2020 6:48:52 PM org.apache.pdfbox.pdmodel.font.PDSimpleFont toUnicode\n",
            "WARNING: No Unicode mapping for C103 (103) in font Adve06613w\n",
            "May 24, 2020 6:48:52 PM org.apache.pdfbox.pdmodel.font.PDSimpleFont toUnicode\n",
            "WARNING: No Unicode mapping for C116 (116) in font Adve06613w\n",
            "May 24, 2020 6:48:52 PM org.apache.pdfbox.pdmodel.font.PDSimpleFont toUnicode\n",
            "WARNING: No Unicode mapping for C104 (104) in font Adve06613w\n",
            "May 24, 2020 6:48:52 PM org.apache.pdfbox.pdmodel.font.PDSimpleFont toUnicode\n",
            "WARNING: No Unicode mapping for C109 (109) in font Adve06613w\n",
            "May 24, 2020 6:48:52 PM org.apache.pdfbox.pdmodel.font.PDSimpleFont toUnicode\n",
            "WARNING: No Unicode mapping for C108 (108) in font Adve06613w\n",
            "May 24, 2020 6:48:52 PM org.apache.pdfbox.pdmodel.font.PDSimpleFont toUnicode\n",
            "WARNING: No Unicode mapping for C117 (117) in font Adve06613w\n",
            "May 24, 2020 6:48:52 PM org.apache.pdfbox.pdmodel.font.PDSimpleFont toUnicode\n",
            "WARNING: No Unicode mapping for C102 (102) in font Adve06613w\n",
            "May 24, 2020 6:48:52 PM org.apache.pdfbox.pdmodel.font.PDSimpleFont toUnicode\n",
            "WARNING: No Unicode mapping for C115 (115) in font Adve06613w\n",
            "May 24, 2020 6:48:52 PM org.apache.pdfbox.pdmodel.font.PDSimpleFont toUnicode\n",
            "WARNING: No Unicode mapping for C120 (120) in font Adve06613w\n",
            "May 24, 2020 6:48:52 PM org.apache.pdfbox.pdmodel.font.PDSimpleFont toUnicode\n",
            "WARNING: No Unicode mapping for C67 (67) in font Adve06613w\n",
            "May 24, 2020 6:48:52 PM org.apache.pdfbox.pdmodel.font.PDSimpleFont toUnicode\n",
            "WARNING: No Unicode mapping for C121 (121) in font Adve06613w\n",
            "May 24, 2020 6:48:52 PM org.apache.pdfbox.pdmodel.font.PDSimpleFont toUnicode\n",
            "WARNING: No Unicode mapping for C66 (66) in font Adve06633w\n",
            "May 24, 2020 6:48:52 PM org.apache.pdfbox.pdmodel.font.PDSimpleFont toUnicode\n",
            "WARNING: No Unicode mapping for C98 (98) in font Adve06613w\n",
            "May 24, 2020 6:48:52 PM org.apache.pdfbox.pdmodel.font.PDSimpleFont toUnicode\n",
            "WARNING: No Unicode mapping for C40 (40) in font Adve06613w\n",
            "May 24, 2020 6:48:52 PM org.apache.pdfbox.pdmodel.font.PDSimpleFont toUnicode\n",
            "WARNING: No Unicode mapping for C65 (65) in font Adve06613w\n",
            "May 24, 2020 6:48:52 PM org.apache.pdfbox.pdmodel.font.PDSimpleFont toUnicode\n",
            "WARNING: No Unicode mapping for C55 (55) in font Adve06613w\n",
            "May 24, 2020 6:48:52 PM org.apache.pdfbox.pdmodel.font.PDSimpleFont toUnicode\n",
            "WARNING: No Unicode mapping for C41 (41) in font Adve06613w\n",
            "May 24, 2020 6:48:52 PM org.apache.pdfbox.pdmodel.font.PDSimpleFont toUnicode\n",
            "WARNING: No Unicode mapping for C68 (68) in font Adve06633w\n",
            "May 24, 2020 6:48:52 PM org.apache.pdfbox.pdmodel.font.PDSimpleFont toUnicode\n",
            "WARNING: No Unicode mapping for C112 (112) in font Adve06613w\n",
            "May 24, 2020 6:48:52 PM org.apache.pdfbox.pdmodel.font.PDSimpleFont toUnicode\n",
            "WARNING: No Unicode mapping for C119 (119) in font Adve06613w\n",
            "May 24, 2020 6:48:52 PM org.apache.pdfbox.pdmodel.font.PDSimpleFont toUnicode\n",
            "WARNING: No Unicode mapping for C118 (118) in font Adve06613w\n",
            "May 24, 2020 6:48:52 PM org.apache.pdfbox.pdmodel.font.PDSimpleFont toUnicode\n",
            "WARNING: No Unicode mapping for C56 (56) in font Adve06613w\n",
            "May 24, 2020 6:48:52 PM org.apache.pdfbox.pdmodel.font.PDSimpleFont toUnicode\n",
            "WARNING: No Unicode mapping for C84 (84) in font Adve06613w\n",
            "May 24, 2020 6:48:52 PM org.apache.pdfbox.pdmodel.font.PDSimpleFont toUnicode\n",
            "WARNING: No Unicode mapping for C73 (73) in font Adve06613w\n",
            "May 24, 2020 6:48:52 PM org.apache.pdfbox.pdmodel.font.PDSimpleFont toUnicode\n",
            "WARNING: No Unicode mapping for C83 (83) in font Adve06613w\n",
            "May 24, 2020 6:48:52 PM org.apache.pdfbox.pdmodel.font.PDSimpleFont toUnicode\n",
            "WARNING: No Unicode mapping for C49 (49) in font Adve06613w\n",
            "May 24, 2020 6:48:52 PM org.apache.pdfbox.pdmodel.font.PDSimpleFont toUnicode\n",
            "WARNING: No Unicode mapping for C70 (70) in font Adve06633w\n",
            "May 24, 2020 6:48:52 PM org.apache.pdfbox.pdmodel.font.PDSimpleFont toUnicode\n",
            "WARNING: No Unicode mapping for C50 (50) in font Adve06613w\n",
            "May 24, 2020 6:48:52 PM org.apache.pdfbox.pdmodel.font.PDSimpleFont toUnicode\n",
            "WARNING: No Unicode mapping for C71 (71) in font Adve06633w\n",
            "May 24, 2020 6:48:52 PM org.apache.pdfbox.pdmodel.font.PDSimpleFont toUnicode\n",
            "WARNING: No Unicode mapping for C72 (72) in font Adve06633w\n",
            "May 24, 2020 6:48:52 PM org.apache.pdfbox.pdmodel.font.PDSimpleFont toUnicode\n",
            "WARNING: No Unicode mapping for C57 (57) in font Adve06613w\n",
            "May 24, 2020 6:48:52 PM org.apache.pdfbox.pdmodel.font.PDSimpleFont toUnicode\n",
            "WARNING: No Unicode mapping for C107 (107) in font Adve06613w\n",
            "May 24, 2020 6:48:52 PM org.apache.pdfbox.pdmodel.font.PDSimpleFont toUnicode\n",
            "WARNING: No Unicode mapping for C86 (86) in font Adve06613w\n",
            "May 24, 2020 6:48:52 PM org.apache.pdfbox.pdmodel.font.PDSimpleFont toUnicode\n",
            "WARNING: No Unicode mapping for C66 (66) in font Adve06613w\n",
            "May 24, 2020 6:48:52 PM org.apache.pdfbox.pdmodel.font.PDSimpleFont toUnicode\n",
            "WARNING: No Unicode mapping for C68 (68) in font Adve06613w\n",
            "May 24, 2020 6:48:52 PM org.apache.pdfbox.pdmodel.font.PDSimpleFont toUnicode\n",
            "WARNING: No Unicode mapping for C69 (69) in font Adve06613w\n",
            "May 24, 2020 6:48:52 PM org.apache.pdfbox.pdmodel.font.PDSimpleFont toUnicode\n",
            "WARNING: No Unicode mapping for C70 (70) in font Adve06613w\n",
            "May 24, 2020 6:48:52 PM org.apache.pdfbox.pdmodel.font.PDSimpleFont toUnicode\n",
            "WARNING: No Unicode mapping for C71 (71) in font Adve06613w\n",
            "May 24, 2020 6:48:52 PM org.apache.pdfbox.pdmodel.font.PDSimpleFont toUnicode\n",
            "WARNING: No Unicode mapping for C72 (72) in font Adve06613w\n",
            "May 24, 2020 6:48:52 PM org.apache.pdfbox.pdmodel.font.PDSimpleFont toUnicode\n",
            "WARNING: No Unicode mapping for C85 (85) in font Adve06613w\n",
            "May 24, 2020 6:48:52 PM org.apache.pdfbox.pdmodel.font.PDSimpleFont toUnicode\n",
            "WARNING: No Unicode mapping for C88 (88) in font Adve06613w\n",
            "May 24, 2020 6:48:52 PM org.apache.pdfbox.pdmodel.font.PDSimpleFont toUnicode\n",
            "WARNING: No Unicode mapping for C77 (77) in font Adve06613w\n",
            "May 24, 2020 6:48:52 PM org.apache.pdfbox.pdmodel.font.PDSimpleFont toUnicode\n",
            "WARNING: No Unicode mapping for C44 (44) in font Adve06613w\n",
            "May 24, 2020 6:48:52 PM org.apache.pdfbox.pdmodel.font.PDSimpleFont toUnicode\n",
            "WARNING: No Unicode mapping for C78 (78) in font Adve06613w\n",
            "May 24, 2020 6:48:52 PM org.apache.pdfbox.pdmodel.font.PDSimpleFont toUnicode\n",
            "WARNING: No Unicode mapping for C79 (79) in font Adve06613w\n",
            "May 24, 2020 6:48:52 PM org.apache.pdfbox.pdmodel.font.PDSimpleFont toUnicode\n",
            "WARNING: No Unicode mapping for C81 (81) in font Adve06613w\n",
            "May 24, 2020 6:48:52 PM org.apache.pdfbox.pdmodel.font.PDSimpleFont toUnicode\n",
            "WARNING: No Unicode mapping for C82 (82) in font Adve06613w\n",
            "May 24, 2020 6:48:52 PM org.apache.pdfbox.pdmodel.font.PDSimpleFont toUnicode\n",
            "WARNING: No Unicode mapping for C87 (87) in font Adve06613w\n",
            "May 24, 2020 6:48:52 PM org.apache.pdfbox.pdmodel.font.PDSimpleFont toUnicode\n",
            "WARNING: No Unicode mapping for C90 (90) in font Adve06613w\n",
            "May 24, 2020 6:48:52 PM org.apache.pdfbox.pdmodel.font.PDSimpleFont toUnicode\n",
            "WARNING: No Unicode mapping for C122 (122) in font Adve06613w\n",
            "May 24, 2020 6:48:52 PM org.apache.pdfbox.pdmodel.font.PDSimpleFont toUnicode\n",
            "WARNING: No Unicode mapping for C106 (106) in font Adve06613w\n",
            "May 24, 2020 6:48:52 PM org.apache.pdfbox.pdmodel.font.PDSimpleFont toUnicode\n",
            "WARNING: No Unicode mapping for C74 (74) in font Adve06613w\n",
            "May 24, 2020 6:48:52 PM org.apache.pdfbox.pdmodel.font.PDSimpleFont toUnicode\n",
            "WARNING: No Unicode mapping for C51 (51) in font Adve06613w\n",
            "May 24, 2020 6:48:52 PM org.apache.pdfbox.pdmodel.font.PDSimpleFont toUnicode\n",
            "WARNING: No Unicode mapping for C46 (46) in font Adve06613w\n",
            "May 24, 2020 6:48:52 PM org.apache.pdfbox.pdmodel.font.PDSimpleFont toUnicode\n",
            "WARNING: No Unicode mapping for C48 (48) in font Adve06613w\n",
            "May 24, 2020 6:48:52 PM org.apache.pdfbox.pdmodel.font.PDSimpleFont toUnicode\n",
            "WARNING: No Unicode mapping for C76 (76) in font Adve06613w\n",
            "May 24, 2020 6:48:52 PM org.apache.pdfbox.pdmodel.font.PDSimpleFont toUnicode\n",
            "WARNING: No Unicode mapping for C52 (52) in font Adve06613w\n",
            "May 24, 2020 6:48:52 PM org.apache.pdfbox.pdmodel.font.PDSimpleFont toUnicode\n",
            "WARNING: No Unicode mapping for C54 (54) in font Adve06613w\n",
            "May 24, 2020 6:48:52 PM org.apache.pdfbox.pdmodel.font.PDSimpleFont toUnicode\n",
            "WARNING: No Unicode mapping for C47 (47) in font Adve06613w\n",
            "May 24, 2020 6:48:52 PM org.apache.pdfbox.pdmodel.font.PDSimpleFont toUnicode\n",
            "WARNING: No Unicode mapping for C89 (89) in font Adve06613w\n",
            "May 24, 2020 6:48:52 PM org.apache.pdfbox.pdmodel.font.PDSimpleFont toUnicode\n",
            "WARNING: No Unicode mapping for C75 (75) in font Adve06613w\n",
            "May 24, 2020 6:48:52 PM org.apache.pdfbox.pdmodel.font.PDSimpleFont toUnicode\n",
            "WARNING: No Unicode mapping for C244 (244) in font Adve06613w\n",
            "May 24, 2020 6:48:52 PM org.apache.pdfbox.pdmodel.font.PDSimpleFont toUnicode\n",
            "WARNING: No Unicode mapping for C39 (39) in font Adve06613w\n",
            "May 24, 2020 6:48:52 PM org.apache.pdfbox.pdmodel.font.PDSimpleFont toUnicode\n",
            "WARNING: No Unicode mapping for C80 (80) in font Adve06613w\n",
            "May 24, 2020 6:48:52 PM org.apache.pdfbox.pdmodel.font.PDSimpleFont toUnicode\n",
            "WARNING: No Unicode mapping for C113 (113) in font Adve06613w\n",
            "May 24, 2020 6:48:52 PM org.apache.pdfbox.pdmodel.font.PDSimpleFont toUnicode\n",
            "WARNING: No Unicode mapping for C45 (45) in font Adve06613w\n",
            "May 24, 2020 6:48:52 PM org.apache.pdfbox.pdmodel.font.PDSimpleFont toUnicode\n",
            "WARNING: No Unicode mapping for C53 (53) in font Adve06613w\n",
            "May 24, 2020 6:48:53 PM org.apache.pdfbox.pdmodel.font.PDSimpleFont toUnicode\n",
            "WARNING: No Unicode mapping for C227 (227) in font Adve06613w\n",
            "May 24, 2020 6:48:53 PM org.apache.pdfbox.pdmodel.font.PDSimpleFont toUnicode\n",
            "WARNING: No Unicode mapping for C233 (233) in font Adve06613w\n",
            "May 24, 2020 6:48:53 PM org.apache.pdfbox.pdmodel.font.PDSimpleFont toUnicode\n",
            "WARNING: No Unicode mapping for C237 (237) in font Adve06613w\n",
            "\n"
          ],
          "name": "stderr"
        },
        {
          "output_type": "stream",
          "text": [
            "7\n",
            "7\n",
            "7\n",
            "7\n",
            "7\n",
            "7\n"
          ],
          "name": "stdout"
        },
        {
          "output_type": "display_data",
          "data": {
            "text/html": [
              "<div>\n",
              "<style scoped>\n",
              "    .dataframe tbody tr th:only-of-type {\n",
              "        vertical-align: middle;\n",
              "    }\n",
              "\n",
              "    .dataframe tbody tr th {\n",
              "        vertical-align: top;\n",
              "    }\n",
              "\n",
              "    .dataframe thead th {\n",
              "        text-align: right;\n",
              "    }\n",
              "</style>\n",
              "<table border=\"1\" class=\"dataframe\">\n",
              "  <thead>\n",
              "    <tr style=\"text-align: right;\">\n",
              "      <th></th>\n",
              "      <th>exporter</th>\n",
              "      <th>C</th>\n",
              "      <th>D</th>\n",
              "      <th>E</th>\n",
              "      <th>F</th>\n",
              "      <th>G</th>\n",
              "      <th>H</th>\n",
              "    </tr>\n",
              "  </thead>\n",
              "  <tbody>\n",
              "    <tr>\n",
              "      <th>0</th>\n",
              "      <td>UnitedArabEmirates</td>\n",
              "      <td>NaN</td>\n",
              "      <td>NaN</td>\n",
              "      <td>NaN</td>\n",
              "      <td>NaN</td>\n",
              "      <td>NaN</td>\n",
              "      <td>NaN</td>\n",
              "    </tr>\n",
              "    <tr>\n",
              "      <th>1</th>\n",
              "      <td>Afghanistan</td>\n",
              "      <td>NaN</td>\n",
              "      <td>NaN</td>\n",
              "      <td>NaN</td>\n",
              "      <td>NaN</td>\n",
              "      <td>NaN</td>\n",
              "      <td>X</td>\n",
              "    </tr>\n",
              "    <tr>\n",
              "      <th>2</th>\n",
              "      <td>AntiguaandBarbuda</td>\n",
              "      <td>NaN</td>\n",
              "      <td>NaN</td>\n",
              "      <td>NaN</td>\n",
              "      <td>NaN</td>\n",
              "      <td>NaN</td>\n",
              "      <td>NaN</td>\n",
              "    </tr>\n",
              "    <tr>\n",
              "      <th>3</th>\n",
              "      <td>Anguilla</td>\n",
              "      <td>NaN</td>\n",
              "      <td>NaN</td>\n",
              "      <td>NaN</td>\n",
              "      <td>NaN</td>\n",
              "      <td>NaN</td>\n",
              "      <td>NaN</td>\n",
              "    </tr>\n",
              "    <tr>\n",
              "      <th>4</th>\n",
              "      <td>Armenia</td>\n",
              "      <td>II,XXVI</td>\n",
              "      <td>NaN</td>\n",
              "      <td>NaN</td>\n",
              "      <td>NaN</td>\n",
              "      <td>NaN</td>\n",
              "      <td>NaN</td>\n",
              "    </tr>\n",
              "    <tr>\n",
              "      <th>16</th>\n",
              "      <td>Yemen</td>\n",
              "      <td>NaN</td>\n",
              "      <td>NaN</td>\n",
              "      <td>NaN</td>\n",
              "      <td>NaN</td>\n",
              "      <td>NaN</td>\n",
              "      <td>X</td>\n",
              "    </tr>\n",
              "    <tr>\n",
              "      <th>17</th>\n",
              "      <td>Mayotte</td>\n",
              "      <td>NaN</td>\n",
              "      <td>NaN</td>\n",
              "      <td>NaN</td>\n",
              "      <td>NaN</td>\n",
              "      <td>NaN</td>\n",
              "      <td>NaN</td>\n",
              "    </tr>\n",
              "    <tr>\n",
              "      <th>18</th>\n",
              "      <td>SouthAfrica</td>\n",
              "      <td>XXVI</td>\n",
              "      <td>NaN</td>\n",
              "      <td>NaN</td>\n",
              "      <td>NaN</td>\n",
              "      <td>NaN</td>\n",
              "      <td>NaN</td>\n",
              "    </tr>\n",
              "    <tr>\n",
              "      <th>19</th>\n",
              "      <td>Zambia</td>\n",
              "      <td>NaN</td>\n",
              "      <td>NaN</td>\n",
              "      <td>NaN</td>\n",
              "      <td>NaN</td>\n",
              "      <td>NaN</td>\n",
              "      <td>X</td>\n",
              "    </tr>\n",
              "    <tr>\n",
              "      <th>20</th>\n",
              "      <td>Zimbabwe</td>\n",
              "      <td>NaN</td>\n",
              "      <td>NaN</td>\n",
              "      <td>NaN</td>\n",
              "      <td>NaN</td>\n",
              "      <td>NaN</td>\n",
              "      <td>NaN</td>\n",
              "    </tr>\n",
              "  </tbody>\n",
              "</table>\n",
              "</div>"
            ],
            "text/plain": [
              "              exporter        C    D    E    F   G    H\n",
              "0   UnitedArabEmirates      NaN  NaN  NaN  NaN NaN  NaN\n",
              "1          Afghanistan      NaN  NaN  NaN  NaN NaN    X\n",
              "2    AntiguaandBarbuda      NaN  NaN  NaN  NaN NaN  NaN\n",
              "3             Anguilla      NaN  NaN  NaN  NaN NaN  NaN\n",
              "4              Armenia  II,XXVI  NaN  NaN  NaN NaN  NaN\n",
              "16               Yemen      NaN  NaN  NaN  NaN NaN    X\n",
              "17             Mayotte      NaN  NaN  NaN  NaN NaN  NaN\n",
              "18         SouthAfrica     XXVI  NaN  NaN  NaN NaN  NaN\n",
              "19              Zambia      NaN  NaN  NaN  NaN NaN    X\n",
              "20            Zimbabwe      NaN  NaN  NaN  NaN NaN  NaN"
            ]
          },
          "metadata": {
            "tags": []
          }
        },
        {
          "output_type": "stream",
          "text": [
            "<class 'pandas.core.frame.DataFrame'>\n",
            "Int64Index: 179 entries, 0 to 20\n",
            "Data columns (total 7 columns):\n",
            " #   Column    Non-Null Count  Dtype  \n",
            "---  ------    --------------  -----  \n",
            " 0   exporter  179 non-null    object \n",
            " 1   C         15 non-null     object \n",
            " 2   D         20 non-null     object \n",
            " 3   E         1 non-null      object \n",
            " 4   F         1 non-null      object \n",
            " 5   G         0 non-null      float64\n",
            " 6   H         49 non-null     object \n",
            "dtypes: float64(1), object(6)\n",
            "memory usage: 11.2+ KB\n"
          ],
          "name": "stdout"
        },
        {
          "output_type": "display_data",
          "data": {
            "text/plain": [
              "None"
            ]
          },
          "metadata": {
            "tags": []
          }
        }
      ]
    },
    {
      "cell_type": "markdown",
      "metadata": {
        "id": "bmH2KCYMD22K",
        "colab_type": "text"
      },
      "source": [
        "### Tariffs\n"
      ]
    },
    {
      "cell_type": "code",
      "metadata": {
        "id": "smUfdnwkZD7K",
        "colab_type": "code",
        "colab": {}
      },
      "source": [
        ""
      ],
      "execution_count": null,
      "outputs": []
    },
    {
      "cell_type": "markdown",
      "metadata": {
        "id": "9Zh_n6GNtZUm",
        "colab_type": "text"
      },
      "source": [
        "\n",
        "\n",
        "# RECONSTRUCTION OF TIME SERIES\n",
        "\n",
        "## Timelime\n",
        "\n",
        "__1971:__ The Community has granted trade preferences to developing countries, in the framework of its scheme of generalised tariff preferences.\n",
        "Preferences were with respect to certain agricultural and industrial products from developing countries. The initial 10-year period of application of the system of preferences ended on 31 December 1980. A second 10-year period ended on 31 December 1990. The scheme was kept in being, unchanged, until 31 December 1994 when the Community made a new 10-year offer (1995-2004). source:  [OJ L 357, 30.12.1998,](https://eur-lex.europa.eu/LexUriServ/LexUriServ.do?uri=OJ:L:1998:357:0001:0112:EN:PDF)\n",
        "\n",
        "### 1998\n",
        "From COUNCIL REGULATION (EC) No [2820/98](https://eur-lex.europa.eu/legal-content/EN/TXT/PDF/?uri=CELEX:31998R2820&from=EN) of 21 December 1998 applying a multiannual scheme of generalised tariff preferences for the period 1 July 1999 to 31 December 2001\n",
        "<br>\n",
        "\n",
        "#### For LDC\n",
        "__Section 3__\n",
        "Special support arrangements for the least-developed\n",
        "countries<br>\n",
        "\n",
        "__Article 6__<br>\n",
        "For the least-developed countries listed in _annex IV_ ,\n",
        "Common Customs Tariff duties shall be suspended in\n",
        "their entirety in respect of the products listed in __Annex I__\n",
        "and reduced according to the modulation mechanism\n",
        "provided for in __Article 2__ in respect of the products listed\n",
        "in __Annex VII__. <br>\n",
        "\n",
        "#### Tariffs for GSP (zero for LDC)\n",
        "__Article 2__\n",
        "1. The preferential duty applying to products listed in Part 1 of Annex I shall be 85 % of the Common Customs Tariff duty applicable to the product concerned, without prejudice to the provisions of Title II.\n",
        "2. The preferential duty applying to products listed in Part 2 of Annex I shall be 70 % of the Common Customs Tariff duty applicable to the product concerned, without prejudice to the provisions of Title II.\n",
        "3. The preferential duty applying to products listed in Part 3 of Annex I shall be 35 % of the Common Customs Tariff duty applicable to the product concerned, without prejudice to the provisions of Title II.\n",
        "4. Common Customs Tariff duties shall be suspended in their entirety on products listed in Part 4 of Annex I.\n",
        "\n",
        "\n",
        "\n"
      ]
    },
    {
      "cell_type": "code",
      "metadata": {
        "id": "qou2LDIeZWnZ",
        "colab_type": "code",
        "colab": {}
      },
      "source": [
        ""
      ],
      "execution_count": null,
      "outputs": []
    },
    {
      "cell_type": "markdown",
      "metadata": {
        "id": "fENcIflVqkoQ",
        "colab_type": "text"
      },
      "source": [
        ""
      ]
    }
  ]
}