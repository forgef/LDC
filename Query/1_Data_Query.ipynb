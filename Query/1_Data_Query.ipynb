{
  "nbformat": 4,
  "nbformat_minor": 0,
  "metadata": {
    "colab": {
      "name": "1_Data_Query.ipynb",
      "provenance": [],
      "collapsed_sections": [],
      "mount_file_id": "1GqaldkMWs-7srM563iS4xBuK9mogfiaA",
      "authorship_tag": "ABX9TyOVt0RgY9qoya1PyQ+tFjVx"
    },
    "kernelspec": {
      "name": "python3",
      "display_name": "Python 3"
    }
  },
  "cells": [
    {
      "cell_type": "markdown",
      "metadata": {
        "id": "1zwAYsQJlUyd",
        "colab_type": "text"
      },
      "source": [
        "Use the WTO API to request data from [WTO Time Series Website](https://timeseries.wto.org/). <br>\n",
        "\n",
        "\n",
        "Info on how to use the API [here](https://apiportal.wto.org/)"
      ]
    },
    {
      "cell_type": "code",
      "metadata": {
        "id": "8gtAF6WKjBx8",
        "colab_type": "code",
        "outputId": "3d2a8932-5e03-4e8f-ab79-8d3ca341668e",
        "colab": {
          "base_uri": "https://localhost:8080/",
          "height": 122
        }
      },
      "source": [
        "from google.colab import drive\n",
        "drive.mount('/content/gdrive')"
      ],
      "execution_count": 1,
      "outputs": [
        {
          "output_type": "stream",
          "text": [
            "Go to this URL in a browser: https://accounts.google.com/o/oauth2/auth?client_id=947318989803-6bn6qk8qdgf4n4g3pfee6491hc0brc4i.apps.googleusercontent.com&redirect_uri=urn%3aietf%3awg%3aoauth%3a2.0%3aoob&response_type=code&scope=email%20https%3a%2f%2fwww.googleapis.com%2fauth%2fdocs.test%20https%3a%2f%2fwww.googleapis.com%2fauth%2fdrive%20https%3a%2f%2fwww.googleapis.com%2fauth%2fdrive.photos.readonly%20https%3a%2f%2fwww.googleapis.com%2fauth%2fpeopleapi.readonly\n",
            "\n",
            "Enter your authorization code:\n",
            "··········\n",
            "Mounted at /content/gdrive\n"
          ],
          "name": "stdout"
        }
      ]
    },
    {
      "cell_type": "code",
      "metadata": {
        "id": "E-GFBF7eiWCm",
        "colab_type": "code",
        "colab": {}
      },
      "source": [
        "import urllib.parse\n",
        "import requests\n",
        "import pandas as pd\n",
        "import json\n",
        "from datetime import datetime\n",
        "dataFolder='/content/gdrive/My Drive/LDC/Data/' \n",
        "\n",
        "import sys\n",
        "sys.path.append('/content/gdrive/My Drive/LDC/Code')\n",
        "import mysettings"
      ],
      "execution_count": 0,
      "outputs": []
    },
    {
      "cell_type": "code",
      "metadata": {
        "id": "b38SqtdwlPg_",
        "colab_type": "code",
        "colab": {}
      },
      "source": [
        "# Preferential by detailed HS 6-digit ; HS MFN - Simple average with ad valorem equivalents (AVE) (Percent) \n",
        "indicators=['HS_P_0070','HS_A_0015'] ; indicator_names=['Preferential','MFN']\n",
        "INDICATORS=dict(zip(indicator_names,indicators))\n",
        "#Reporting Countries\n",
        "reporting=['036','124','918','352','392','554','578','756','792','840'] ; country_names=['Australia', 'Canada', 'European Union', 'Iceland', 'Japan', 'New Zealand', 'Norway', 'Switzerland', 'Turkey', 'United States']\n",
        "OECD= dict(zip(country_names,reporting))"
      ],
      "execution_count": 0,
      "outputs": []
    },
    {
      "cell_type": "code",
      "metadata": {
        "id": "_87MPl3HhxNr",
        "colab_type": "code",
        "colab": {}
      },
      "source": [
        "def query_wto(importer,indicator,year):\n",
        "  \"\"\" Requests WTO data using the API\n",
        "\n",
        "  Args: importer (str): 'Name of the importing country'\n",
        "    indicator (str): 'Name of the indicator'\n",
        "\n",
        "  Returns:\n",
        "  Pandas dataFrame\n",
        "\n",
        "  \"\"\"\n",
        "  ###\n",
        "  # Create the URL for the request\n",
        "  wto='https://api.wto.org/timeseries/v1/data?'\n",
        "  indic=INDICATORS[indicator]\n",
        "  c=importer\n",
        "  pc='HS6'\n",
        "  maxrows='1000000'\n",
        "  mykey=mysettings.primary_key()\n",
        "\n",
        "  params = urllib.parse.urlencode({\n",
        "      # Request parameters\n",
        "      'i': indic, #\n",
        "      'r': OECD[c],\n",
        "      'ps': year,\n",
        "      'pc': pc,\n",
        "      'max': maxrows,\n",
        "      'fmt': 'json',\n",
        "      'mode': 'full',\n",
        "      'dec': 'default',\n",
        "      'lang': '1',\n",
        "      'meta': 'false',\n",
        "      'off': '0',\n",
        "      'subscription-key':mykey\n",
        "  })\n",
        "  url=''.join([wto,params])\n",
        "\n",
        "  ###\n",
        "  # Get the data\n",
        "  req=requests.get(url)\n",
        "  json_data=req.json()\n",
        "  ###\n",
        "  # To Pandas DF\n",
        "  try:\n",
        "    df=pd.json_normalize(json_data[\"Dataset\"])\n",
        "    keep=['ReportingEconomyCode','ReportingEconomy','PartnerEconomyCode','PartnerEconomy','ProductOrSectorCode','Year','TextValue','Value']\n",
        "    rename={'ReportingEconomyCode': 'importerCode',\n",
        "            'ReportingEconomy':'importer',\n",
        "            'PartnerEconomyCode':'exporterCode',\t\n",
        "            'PartnerEconomy':'exporter',\n",
        "            'ProductOrSectorCode':'HS6',\n",
        "            'Year':'year',\n",
        "            'TextValue':'preference',\n",
        "            'Value':'tariff_pct'}\n",
        "    df=df[keep]        \n",
        "    df.rename(columns=rename,inplace=True)\n",
        "    return df\n",
        "  except KeyError:\n",
        "    pass \n",
        "  \n"
      ],
      "execution_count": 0,
      "outputs": []
    },
    {
      "cell_type": "code",
      "metadata": {
        "id": "VKlc0W8ykwQn",
        "colab_type": "code",
        "outputId": "af6423ad-cf37-4ecb-d2a5-0916dda361bd",
        "colab": {
          "base_uri": "https://localhost:8080/",
          "height": 224
        }
      },
      "source": [
        "#Loop over Importers\n",
        "for imp in country_names:\n",
        "  #Loop over indicators\n",
        "  for ind in indicator_names:\n",
        "    print(f\"Started {imp} for {ind}\")\n",
        "    #Create empty list of dataframes\n",
        "    DF=[]\n",
        "    print(datetime.now())\n",
        "    #Loop over each year\n",
        "    for year in range(1990,2016):\n",
        "      #Get data for the given: (importer, indicator,year)\n",
        "      df = query_wto(importer=imp,indicator=ind,year=year)\n",
        "      #Append dataframe if dataframe was returned\n",
        "      if isinstance(df,pd.DataFrame):\n",
        "        print(f\"Appending {year}\",end=',')\n",
        "        DF.append(df)\n",
        "    #Concat all dataframes for the (importer,year)\n",
        "    print('Concatenating',end=', ')\n",
        "    df=pd.concat(DF)\n",
        "    pathOut=''.join([dataFolder ,imp ,'_' , ind , '.csv'])\n",
        "    print(f\"{len(df)} obs.\")\n",
        "    print(datetime.now())\n",
        "    df.to_csv(pathOut,index=False)\n"
      ],
      "execution_count": 0,
      "outputs": [
        {
          "output_type": "stream",
          "text": [
            "Started Australia for Preferential\n",
            "2020-05-12 17:01:19.827273\n",
            "Appending 1996,Appending 1997,Appending 1998,Appending 1999,Appending 2000,Appending 2001,Appending 2002,Appending 2003,Appending 2004,Appending 2005,Appending 2006,Appending 2007,Appending 2008,Appending 2009,Appending 2010,Appending 2011,Appending 2012,Appending 2013,Appending 2014,Appending 2015,Concatenating, 3775555 obs.\n",
            "2020-05-12 21:43:36.873141\n",
            "Started Australia for MFN\n",
            "2020-05-12 21:44:01.329575\n",
            "Appending 1996,Appending 1997,Appending 1998,Appending 1999,Appending 2000,Appending 2001,Appending 2002,Appending 2003,Appending 2004,Appending 2005,Appending 2006,Appending 2007,Appending 2008,Appending 2009,Appending 2010,Appending 2011,Appending 2012,Appending 2013,Appending 2014,Appending 2015,Concatenating, 102856 obs.\n",
            "2020-05-12 21:52:47.824901\n",
            "Started Canada for Preferential\n",
            "2020-05-12 21:52:48.532182\n",
            "Appending 1996,Appending 1997,Appending 1998,Appending 1999,Appending 2000,Appending 2001,Appending 2002,Appending 2003,Appending 2004,Appending 2005,Appending 2006,"
          ],
          "name": "stdout"
        }
      ]
    }
  ]
}
